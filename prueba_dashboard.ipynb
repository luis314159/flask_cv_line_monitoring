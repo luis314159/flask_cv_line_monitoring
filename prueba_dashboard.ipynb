{
 "cells": [
  {
   "cell_type": "code",
   "execution_count": 2,
   "metadata": {},
   "outputs": [],
   "source": [
    "import matplotlib.pyplot as plt\n",
    "\n",
    "time_in_each_state = {\n",
    "    \"Green\": 70,\n",
    "    \"Red\": 5,\n",
    "    \"Yellow\": 5,\n",
    "    \"Blue\": 2,\n",
    "    \"None\": 18\n",
    "}"
   ]
  },
  {
   "cell_type": "code",
   "execution_count": 3,
   "metadata": {},
   "outputs": [],
   "source": [
    "total_time = 100"
   ]
  },
  {
   "cell_type": "code",
   "execution_count": 4,
   "metadata": {},
   "outputs": [
    {
     "data": {
      "text/plain": [
       "0.7"
      ]
     },
     "execution_count": 4,
     "metadata": {},
     "output_type": "execute_result"
    }
   ],
   "source": [
    "efficiency = time_in_each_state[\"Green\"] / total_time if total_time > 0 else 0\n",
    "efficiency"
   ]
  },
  {
   "cell_type": "code",
   "execution_count": 12,
   "metadata": {},
   "outputs": [],
   "source": [
    "def generate_dashboard(efficiency):\n",
    "    states = list(time_in_each_state.keys())\n",
    "    times = list(time_in_each_state.values())\n",
    "\n",
    "    plt.figure(figsize=(10, 6))\n",
    "    plt.bar(states, times, color=['green', 'red', 'yellow', 'blue', 'gray'])\n",
    "    plt.xlabel('State')\n",
    "    plt.ylabel('Time (seconds)')\n",
    "    plt.title(f'State Duration and Efficiency (Green Efficiency: {efficiency:.2%})')\n",
    "\n",
    "    # Guardar el gráfico actualizado\n",
    "    plt.savefig(\"static/dashboard.png\")\n",
    "    plt.close()\n",
    "    print(\"Dashboard updated.\")\n"
   ]
  },
  {
   "cell_type": "markdown",
   "metadata": {},
   "source": [
    "<img src = \"static/dashboard.png\">"
   ]
  },
  {
   "cell_type": "markdown",
   "metadata": {},
   "source": []
  }
 ],
 "metadata": {
  "kernelspec": {
   "display_name": "yolopytorch",
   "language": "python",
   "name": "python3"
  },
  "language_info": {
   "codemirror_mode": {
    "name": "ipython",
    "version": 3
   },
   "file_extension": ".py",
   "mimetype": "text/x-python",
   "name": "python",
   "nbconvert_exporter": "python",
   "pygments_lexer": "ipython3",
   "version": "3.12.3"
  }
 },
 "nbformat": 4,
 "nbformat_minor": 2
}
